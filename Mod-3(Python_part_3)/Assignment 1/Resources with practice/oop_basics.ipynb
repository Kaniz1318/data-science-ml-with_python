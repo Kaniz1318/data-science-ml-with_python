{
  "cells": [
    {
      "cell_type": "markdown",
      "id": "ba3efb0a",
      "metadata": {
        "id": "ba3efb0a"
      },
      "source": [
        "# Introduction to Object-Oriented Programming (OOP)\n",
        "\n",
        "**Lecture 5: A Beginner's Guide to Classes and Objects**\n",
        "\n",
        "---\n",
        "\n",
        "## Learning Objectives\n",
        "By the end of this lecture, you will understand:\n",
        "- What Object-Oriented Programming (OOP) is\n",
        "- How to define **Classes**\n",
        "- How to create **Objects** (instances of classes)\n",
        "- How to add **Methods** to classes\n",
        "- The role of **Constructors** (`__init__`)\n",
        "- The difference between **Default** and **Parameterized Constructors**\n",
        "- The use of the **`pass`** statement\n",
        "- The basic concept of **Inheritance**"
      ]
    },
    {
      "cell_type": "markdown",
      "id": "cc1737c7",
      "metadata": {
        "id": "cc1737c7"
      },
      "source": [
        "## 1. What is Object-Oriented Programming (OOP)?\n",
        "\n",
        "OOP is a programming paradigm based on the concept of \"objects\", which can contain data and code.\n",
        "\n",
        "Think of it like this:\n",
        "- **Class**: A blueprint for creating objects (e.g., the blueprint of a car).\n",
        "- **Object**: An instance of a class (e.g., your specific car, which was built from the blueprint).\n",
        "\n",
        "OOP helps organize complex programs, making them more reusable and easier to manage."
      ]
    },
    {
      "cell_type": "markdown",
      "id": "33a215fb",
      "metadata": {
        "id": "33a215fb"
      },
      "source": [
        "## 2. Classes and Objects\n",
        "\n",
        "A **class** is a blueprint for creating objects. It defines a set of attributes (data) and methods (functions) that the created objects will have.\n",
        "\n",
        "An **object** is an instance of a class. It's a concrete entity created from the class blueprint."
      ]
    },
    {
      "cell_type": "code",
      "execution_count": null,
      "id": "791200a9",
      "metadata": {
        "id": "791200a9"
      },
      "outputs": [],
      "source": [
        "# Defining a simple class\n",
        "class Dog:\n",
        "    # This is a simple attribute\n",
        "    species = \"Canis familiaris\"\n",
        "\n",
        "# Creating objects (instances) of the Dog class\n",
        "dog1 = Dog()\n",
        "dog2 = Dog()\n",
        "\n",
        "# Accessing the class attribute\n",
        "print(f\"Dog 1 is a {dog1.species}\")\n",
        "print(f\"Dog 2 is also a {dog2.species}\")"
      ]
    },
    {
      "cell_type": "markdown",
      "id": "cdf3e122",
      "metadata": {
        "id": "cdf3e122"
      },
      "source": [
        "## 3. The `pass` Statement\n",
        "\n",
        "Sometimes you want to define a class but not add any attributes or methods to it yet. In this case, you can use the `pass` statement to avoid an error."
      ]
    },
    {
      "cell_type": "code",
      "execution_count": null,
      "id": "39e4fcad",
      "metadata": {
        "id": "39e4fcad"
      },
      "outputs": [],
      "source": [
        "# A class with no content needs the 'pass' statement\n",
        "class Cat:\n",
        "    pass\n",
        "\n",
        "# You can still create an object from it\n",
        "my_cat = Cat()\n",
        "print(\"Successfully created a Cat object!\")"
      ]
    },
    {
      "cell_type": "markdown",
      "id": "0a10f8ed",
      "metadata": {
        "id": "0a10f8ed"
      },
      "source": [
        "## 4. Introducing Methods\n",
        "\n",
        "A **method** is a function that belongs to a class. It defines a behavior that objects of the class can perform.\n",
        "\n",
        "The first parameter of a method is always `self`, which refers to the object instance itself. This allows the method to access the object's data."
      ]
    },
    {
      "cell_type": "code",
      "execution_count": null,
      "id": "1b7f3ca3",
      "metadata": {
        "id": "1b7f3ca3"
      },
      "outputs": [],
      "source": [
        "class Dog:\n",
        "    species = \"Canis familiaris\"\n",
        "\n",
        "    # This is a method\n",
        "    def bark(self):\n",
        "        print(\"Woof! Woof!\")\n",
        "\n",
        "# Create an object\n",
        "my_dog = Dog()\n",
        "\n",
        "# Call the method on the object\n",
        "my_dog.bark()"
      ]
    },
    {
      "cell_type": "markdown",
      "id": "b509b4d2",
      "metadata": {
        "id": "b509b4d2"
      },
      "source": [
        "## 5. Constructors (`__init__` method)\n",
        "\n",
        "The `__init__` method is a special method called a **constructor**. It is automatically called when you create a new object.\n",
        "\n",
        "It's used to initialize the object's attributes (the specific data for that instance)."
      ]
    },
    {
      "cell_type": "markdown",
      "id": "8a34d01e",
      "metadata": {
        "id": "8a34d01e"
      },
      "source": [
        "### Default Constructor\n",
        "\n",
        "If you don't define an `__init__` method, Python provides a default one that does nothing. This is what we've been using so far."
      ]
    },
    {
      "cell_type": "code",
      "execution_count": null,
      "id": "f7c088fc",
      "metadata": {
        "colab": {
          "base_uri": "https://localhost:8080/"
        },
        "id": "f7c088fc",
        "outputId": "002cb99b-b730-41f3-b337-95d2653c51f8"
      },
      "outputs": [
        {
          "output_type": "stream",
          "name": "stdout",
          "text": [
            "The car is moving.\n"
          ]
        }
      ],
      "source": [
        "# This class uses the default constructor\n",
        "class Car:\n",
        "\n",
        "\n",
        "    def drive(self):\n",
        "        print(\"The car is moving.\")\n",
        "\n",
        "my_car = Car() # Default constructor is called here\n",
        "my_car.drive()"
      ]
    },
    {
      "cell_type": "markdown",
      "id": "a98df8ec",
      "metadata": {
        "id": "a98df8ec"
      },
      "source": [
        "### Parameterized Constructor\n",
        "\n",
        "A **parameterized constructor** accepts arguments (in addition to `self`) to initialize the object's attributes with specific values."
      ]
    },
    {
      "cell_type": "code",
      "execution_count": null,
      "id": "e024df3b",
      "metadata": {
        "colab": {
          "base_uri": "https://localhost:8080/"
        },
        "id": "e024df3b",
        "outputId": "82fb5fe3-b942-45a2-dff4-60fd9b2fd891"
      },
      "outputs": [
        {
          "output_type": "stream",
          "name": "stdout",
          "text": [
            "Buddy has been created!\n",
            "Lucy has been created!\n",
            "My name is Buddy and I am 3 years old.\n",
            "My name is Lucy and I am 5 years old.\n"
          ]
        }
      ],
      "source": [
        "class Dog:\n",
        "    # Parameterized constructor\n",
        "    def __init__(self, name, age):\n",
        "        # These are instance attributes\n",
        "        self.name = name\n",
        "        self.age = age\n",
        "        print(f\"{self.name} has been created!\")\n",
        "\n",
        "    # A method that uses instance attributes\n",
        "    def introduce(self):\n",
        "        print(f\"My name is {self.name} and I am {self.age} years old.\")\n",
        "\n",
        "# Create objects with specific attributes\n",
        "dog1 = Dog(\"Buddy\", 3)\n",
        "dog2 = Dog(\"Lucy\", 5)\n",
        "\n",
        "# Call methods on these objects\n",
        "dog1.introduce()\n",
        "dog2.introduce()"
      ]
    },
    {
      "cell_type": "markdown",
      "id": "53b6ab4b",
      "metadata": {
        "id": "53b6ab4b"
      },
      "source": [
        "## 6. Intro to Inheritance\n",
        "\n",
        "**Inheritance** allows us to define a class that inherits all the methods and properties from another class.\n",
        "\n",
        "- **Parent class** (or base class): The class being inherited from.\n",
        "- **Child class** (or derived class): The class that inherits from another class.\n",
        "\n",
        "This promotes code reuse. For example, both `Dog` and `Cat` are `Animal`s. They share common behaviors like eating but have unique behaviors like barking or meowing."
      ]
    },
    {
      "cell_type": "code",
      "execution_count": null,
      "id": "6ab2a268",
      "metadata": {
        "id": "6ab2a268"
      },
      "outputs": [],
      "source": [
        "# Parent class\n",
        "class Animal:\n",
        "    def __init__(self, name):\n",
        "        self.name = name\n",
        "\n",
        "    def eat(self):\n",
        "        print(f\"{self.name} is eating.\")\n",
        "\n",
        "# Child class (inherits from Animal)\n",
        "class Dog(Animal):\n",
        "    def bark(self):\n",
        "        print(f\"{self.name} says Woof!\")\n",
        "\n",
        "# Another child class\n",
        "class Cat(Animal):\n",
        "    def meow(self):\n",
        "        print(f\"{self.name} says Meow!\")\n",
        "\n",
        "# Create objects of the child classes\n",
        "my_dog = Dog(\"Buddy\")\n",
        "my_cat = Cat(\"Whiskers\")\n",
        "\n",
        "# They can use methods from the parent class\n",
        "my_dog.eat()\n",
        "my_cat.eat()\n",
        "\n",
        "# They can also use their own methods\n",
        "my_dog.bark()\n",
        "my_cat.meow()"
      ]
    },
    {
      "cell_type": "markdown",
      "id": "a395d0ec",
      "metadata": {
        "id": "a395d0ec"
      },
      "source": [
        "## Summary\n",
        "\n",
        "- **Class**: A blueprint (e.g., `Dog`).\n",
        "- **Object**: An instance of a class (e.g., `my_dog = Dog()`).\n",
        "- **Method**: A function inside a class (e.g., `def bark(self):`).\n",
        "- **Constructor (`__init__`)**: A special method to initialize an object's state.\n",
        "- **`self`**: Refers to the instance of the class.\n",
        "- **`pass`**: A placeholder for an empty class or function.\n",
        "- **Inheritance**: A way for one class to inherit attributes and methods from another.\n",
        "\n",
        "---"
      ]
    },
    {
      "cell_type": "markdown",
      "id": "dd772e6e",
      "metadata": {
        "id": "dd772e6e"
      },
      "source": [
        "## Practice Problems\n",
        "\n",
        "Now, try to solve these problems to test your understanding."
      ]
    },
    {
      "cell_type": "markdown",
      "id": "f888c5f3",
      "metadata": {
        "id": "f888c5f3"
      },
      "source": [
        "### Problem 1: Create a `Car` Class\n",
        "\n",
        "1. Create a class named `Car`.\n",
        "2. Use a parameterized constructor to initialize the car's `make`, `model`, and `year`.\n",
        "3. Create a method called `display_info` that prints the car's details in a readable format (e.g., \"2023 Toyota Camry\").\n",
        "4. Create two different `Car` objects and call their `display_info` methods."
      ]
    },
    {
      "cell_type": "code",
      "execution_count": null,
      "id": "28dfc2b2",
      "metadata": {
        "id": "28dfc2b2"
      },
      "outputs": [],
      "source": [
        "# Write your solution here\n"
      ]
    },
    {
      "cell_type": "markdown",
      "id": "cb2dd5cb",
      "metadata": {
        "id": "cb2dd5cb"
      },
      "source": [
        "### Problem 2: Bank Account\n",
        "\n",
        "1. Create a class named `BankAccount`.\n",
        "2. The constructor should take an `owner_name` and an optional `balance` (defaulting to 0).\n",
        "3. Create a method `deposit(amount)` that adds money to the balance.\n",
        "4. Create a method `withdraw(amount)` that subtracts money, but don't allow the balance to go below zero.\n",
        "5. Create a method `get_balance()` that prints the current balance.\n",
        "6. Create a `BankAccount` object, deposit some money, withdraw some, and check the balance."
      ]
    },
    {
      "cell_type": "code",
      "execution_count": null,
      "id": "5f875e53",
      "metadata": {
        "id": "5f875e53"
      },
      "outputs": [],
      "source": [
        "# Write your solution here\n"
      ]
    },
    {
      "cell_type": "markdown",
      "id": "b1076744",
      "metadata": {
        "id": "b1076744"
      },
      "source": [
        "### Problem 3: Inheritance with Shapes\n",
        "\n",
        "1. Create a parent class `Shape` with a constructor that takes a `name`.\n",
        "2. Add a method `show_name()` to the `Shape` class that prints \"This is a [name]\".\n",
        "3. Create a child class `Rectangle` that inherits from `Shape`.\n",
        "4. The `Rectangle` constructor should call the parent constructor (using `super().__init__(name)`) and also take `width` and `height`.\n",
        "5. Add a method `area()` to `Rectangle` that calculates and returns the area.\n",
        "6. Create a `Rectangle` object, show its name, and print its area."
      ]
    },
    {
      "cell_type": "code",
      "execution_count": null,
      "id": "71e455f7",
      "metadata": {
        "id": "71e455f7"
      },
      "outputs": [],
      "source": [
        "# Write your solution here\n"
      ]
    }
  ],
  "metadata": {
    "language_info": {
      "name": "python"
    },
    "colab": {
      "provenance": []
    },
    "kernelspec": {
      "name": "python3",
      "display_name": "Python 3"
    }
  },
  "nbformat": 4,
  "nbformat_minor": 5
}