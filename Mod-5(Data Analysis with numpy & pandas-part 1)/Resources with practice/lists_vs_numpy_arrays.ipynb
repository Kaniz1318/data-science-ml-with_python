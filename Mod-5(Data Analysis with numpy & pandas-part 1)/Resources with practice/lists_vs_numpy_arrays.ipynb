{
  "cells": [
    {
      "cell_type": "markdown",
      "id": "989703ef",
      "metadata": {
        "id": "989703ef"
      },
      "source": [
        "# Python Lists vs NumPy Arrays (Beginner-Friendly)\n",
        "What’s the difference, when to use each, and how to write faster and more memory‑efficient numeric code.\n",
        "\n",
        "By the end of this mini‑lesson you will be able to:\n",
        "- Explain how lists (heterogeneous, flexible) differ from NumPy arrays (homogeneous, vectorized)\n",
        "- Perform elementwise math using arrays and understand broadcasting\n",
        "- Compare performance and memory usage between lists and arrays\n",
        "- Convert between lists and arrays and understand resizing trade‑offs"
      ]
    },
    {
      "cell_type": "markdown",
      "id": "a9b3aa97",
      "metadata": {
        "id": "a9b3aa97"
      },
      "source": [
        "## 1) Setup\n",
        "We’ll use NumPy and a few standard modules."
      ]
    },
    {
      "cell_type": "code",
      "execution_count": null,
      "id": "322dc660",
      "metadata": {
        "id": "322dc660"
      },
      "outputs": [],
      "source": [
        "# If running locally and numpy isn't installed, uncomment:\n",
        "# !pip install numpy\n",
        "\n",
        "import numpy as np\n",
        "import sys, time\n",
        "print(\"NumPy:\", np.__version__)"
      ]
    },
    {
      "cell_type": "markdown",
      "id": "11402f87",
      "metadata": {
        "id": "11402f87"
      },
      "source": [
        "## 2) Quick Recap: Python Lists\n",
        "- General‑purpose containers (can mix types)\n",
        "- Dynamically sized (append/insert/remove are common)\n",
        "- Great for small collections, text, mixed objects\n",
        "- Not optimized for large‑scale numeric math"
      ]
    },
    {
      "cell_type": "code",
      "execution_count": null,
      "id": "48b3d810",
      "metadata": {
        "id": "48b3d810"
      },
      "outputs": [],
      "source": [
        "# Heterogeneous list example\n",
        "lst = [1, 2.5, \"three\", True]\n",
        "print(\"List contents:\", lst)\n",
        "\n",
        "# Repetition and concatenation\n",
        "print(\"[1,2,3] * 3 ->\", [1,2,3] * 3)      # list repetition (concatenates three copies)\n",
        "print(\"[1,2,3] + [4,5] ->\", [1,2,3] + [4,5])\n",
        "\n",
        "# Elementwise math requires loops or comprehensions\n",
        "x = [1,2,3,4,5]\n",
        "y = [10,20,30,40,50]\n",
        "xy_sum = [a + b for a, b in zip(x, y)]\n",
        "xy_sq  = [a*a for a in x]\n",
        "print(\"Sum (lists):\", xy_sum)\n",
        "print(\"Square (lists):\", xy_sq)"
      ]
    },
    {
      "cell_type": "markdown",
      "id": "839482a0",
      "metadata": {
        "id": "839482a0"
      },
      "source": [
        "## 3) NumPy Arrays: Homogeneous and Fast\n",
        "- Fixed‑type, homogeneous elements (`dtype`)\n",
        "- Vectorized operations (avoid Python loops)\n",
        "- Efficient memory layout and C‑backed operations"
      ]
    },
    {
      "cell_type": "code",
      "execution_count": null,
      "id": "01816c95",
      "metadata": {
        "id": "01816c95"
      },
      "outputs": [],
      "source": [
        "arr = np.array([1, 2, 3, 4, 5], dtype=np.int64)\n",
        "print(\"arr:\", arr)\n",
        "print(\"dtype:\", arr.dtype, \"ndim:\", arr.ndim, \"shape:\", arr.shape)\n",
        "\n",
        "# Elementwise math is natural\n",
        "print(\"arr + 10 ->\", arr + 10)\n",
        "print(\"arr * 2  ->\", arr * 2)\n",
        "\n",
        "# NOTE: Contrast with lists: '*' means repetition for lists, multiplication for arrays\n",
        "print(\"[1,2,3] * 2 (list repetition) ->\", [1,2,3] * 2)\n",
        "print(\"np.array([1,2,3]) * 2 (elementwise) ->\", np.array([1,2,3]) * 2)"
      ]
    },
    {
      "cell_type": "markdown",
      "id": "0d743ec4",
      "metadata": {
        "id": "0d743ec4"
      },
      "source": [
        "## 4) Elementwise Operations and Broadcasting\n",
        "Broadcasting lets arrays with compatible shapes interact without manual loops.\n",
        "Rules (brief): dimensions align from the end; size 1 dims can be \"stretched\"."
      ]
    },
    {
      "cell_type": "code",
      "execution_count": null,
      "id": "c2bf6a2f",
      "metadata": {
        "id": "c2bf6a2f"
      },
      "outputs": [],
      "source": [
        "A = np.arange(12).reshape(3,4)\n",
        "b = np.array([10, 20, 30, 40])   # shape (4,)\n",
        "print(\"A:\\n\", A)\n",
        "print(\"b:\", b)\n",
        "print(\"A + b (row-wise broadcast):\\n\", A + b)\n",
        "\n",
        "c = np.array([[100],[200],[300]]) # shape (3,1)\n",
        "print(\"\\nA + c (column-wise broadcast):\\n\", A + c)"
      ]
    },
    {
      "cell_type": "markdown",
      "id": "94ee72c5",
      "metadata": {
        "id": "94ee72c5"
      },
      "source": [
        "## 5) Performance: Loops vs Vectorization\n",
        "Vectorized array math is usually much faster than pure‑Python loops, especially for large data."
      ]
    },
    {
      "cell_type": "code",
      "execution_count": null,
      "id": "2885803f",
      "metadata": {
        "id": "2885803f"
      },
      "outputs": [],
      "source": [
        "N = 500_000\n",
        "lst1 = list(range(N))\n",
        "lst2 = list(range(N))\n",
        "\n",
        "start = time.time()\n",
        "res_list = [a + b for a, b in zip(lst1, lst2)]\n",
        "list_time = time.time() - start\n",
        "\n",
        "arr1 = np.arange(N)\n",
        "arr2 = np.arange(N)\n",
        "start = time.time()\n",
        "res_arr = arr1 + arr2\n",
        "arr_time = time.time() - start\n",
        "\n",
        "print(f\"List time: {list_time:.4f} s, Array time: {arr_time:.4f} s, Speedup: {list_time/arr_time:.1f}x\")"
      ]
    },
    {
      "cell_type": "markdown",
      "id": "7511c648",
      "metadata": {
        "id": "7511c648"
      },
      "source": [
        "## 6) Memory Usage: Objects vs Contiguous Buffers\n",
        "Lists hold references to Python objects (each with overhead).\n",
        "Arrays store raw, contiguous numbers, which is compact."
      ]
    },
    {
      "cell_type": "code",
      "execution_count": null,
      "id": "3cdc01c2",
      "metadata": {
        "id": "3cdc01c2"
      },
      "outputs": [],
      "source": [
        "# Rough memory comparison (values will vary by system)\n",
        "\n",
        "def total_size_of_int_list(n):\n",
        "    L = list(range(n))\n",
        "    # Container size + objects (each int is a Python object)\n",
        "    return sys.getsizeof(L) + sum(sys.getsizeof(x) for x in L)\n",
        "\n",
        "for n in (1_000, 100_000):\n",
        "    list_bytes = total_size_of_int_list(n)\n",
        "    arr = np.arange(n, dtype=np.int64)\n",
        "    array_bytes = arr.nbytes  # raw data buffer only\n",
        "    print(f\"n={n:>6} | list approx bytes={list_bytes:,} | array bytes={array_bytes:,} | ratio(list/array)≈{list_bytes/max(array_bytes,1):.1f}\")\n",
        "\n",
        "# Also note: the NumPy array object itself has some overhead beyond .nbytes,\n",
        "# but for large n, the data buffer dominates."
      ]
    },
    {
      "cell_type": "markdown",
      "id": "9f970130",
      "metadata": {
        "id": "9f970130"
      },
      "source": [
        "## 7) Resizing and Methods: append/insert\n",
        "- Lists: cheap appends, flexible inserts\n",
        "- Arrays: size is fixed; operations like `np.append` return a new array (copy)\n",
        "- For repeated growth, prefer pre‑allocation or list accumulation then convert"
      ]
    },
    {
      "cell_type": "code",
      "execution_count": null,
      "id": "74aa593e",
      "metadata": {
        "id": "74aa593e"
      },
      "outputs": [],
      "source": [
        "# List grows in-place\n",
        "L = []\n",
        "for i in range(5):\n",
        "    L.append(i)\n",
        "print(\"List after appends:\", L)\n",
        "\n",
        "# NumPy append creates a new array each time (can be costly in loops)\n",
        "A = np.array([], dtype=np.int64)\n",
        "for i in range(5):\n",
        "    A = np.append(A, i)  # new array returned\n",
        "print(\"Array after np.append in loop:\", A)\n",
        "\n",
        "# Preferred: preallocate when possible\n",
        "B = np.empty(5, dtype=np.int64)\n",
        "for i in range(5):\n",
        "    B[i] = i\n",
        "print(\"Preallocated array:\", B)"
      ]
    },
    {
      "cell_type": "markdown",
      "id": "6e170594",
      "metadata": {
        "id": "6e170594"
      },
      "source": [
        "## 8) Conversions and Dtypes\n",
        "- List to array: `np.array(list, dtype=...)` (choose dtype for speed/memory)\n",
        "- Array to list: `arr.tolist()` (converts numbers back to Python objects)\n",
        "- Mixing types in arrays leads to upcasting (e.g., ints + floats -> float)"
      ]
    },
    {
      "cell_type": "code",
      "execution_count": null,
      "id": "d7e3a818",
      "metadata": {
        "id": "d7e3a818"
      },
      "outputs": [],
      "source": [
        "L = [1, 2, 3]\n",
        "arr_i32 = np.array(L, dtype=np.int32)\n",
        "arr_f32 = np.array(L, dtype=np.float32)\n",
        "print(\"arr_i32:\", arr_i32, arr_i32.dtype)\n",
        "print(\"arr_f32:\", arr_f32, arr_f32.dtype)\n",
        "\n",
        "mix = np.array([1, 2.5])\n",
        "print(\"Mixed -> upcast to float:\", mix, mix.dtype)\n",
        "\n",
        "back_to_list = arr_i32.tolist()\n",
        "print(\"Back to list:\", back_to_list, type(back_to_list[0]))"
      ]
    },
    {
      "cell_type": "markdown",
      "id": "b23c1304",
      "metadata": {
        "id": "b23c1304"
      },
      "source": [
        "## 9) When to Use What\n",
        "- Use lists for small, mixed‑type, or non‑numeric data and when frequent insertions are needed.\n",
        "- Use NumPy arrays for large numeric datasets, vectorized math, and memory‑efficient storage."
      ]
    },
    {
      "cell_type": "markdown",
      "id": "04b680b6",
      "metadata": {
        "id": "04b680b6"
      },
      "source": [
        "## 10) Practice Exercises\n",
        "1) Create two size‑10 lists and two arrays with values 0..9. Add them elementwise (list via comprehension, array via +). Compare results.\n",
        "2) Show how `* 3` behaves for a list vs an array. Explain the difference.\n",
        "3) Use broadcasting to add a vector of shape (4,) to a matrix of shape (3,4).\n",
        "4) Measure time to compute squares of the first 300k integers using a list comprehension vs `np.arange` with vectorized `** 2`.\n",
        "5) Estimate memory for a list of 50k ints vs an `int32` array of 50k elements."
      ]
    },
    {
      "cell_type": "code",
      "execution_count": null,
      "id": "bab2be3a",
      "metadata": {
        "id": "bab2be3a"
      },
      "outputs": [],
      "source": [
        "# Your workspace for the exercises\n",
        "# 1) Your code here\n",
        "\n",
        "# 2) Your code here\n",
        "\n",
        "# 3) Your code here\n",
        "\n",
        "# 4) Your code here\n",
        "\n",
        "# 5) Your code here"
      ]
    }
  ],
  "metadata": {
    "language_info": {
      "name": "python"
    },
    "colab": {
      "provenance": []
    }
  },
  "nbformat": 4,
  "nbformat_minor": 5
}