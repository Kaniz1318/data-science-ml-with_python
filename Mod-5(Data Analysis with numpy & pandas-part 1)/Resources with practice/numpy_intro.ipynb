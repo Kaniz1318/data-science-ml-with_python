{
  "cells": [
    {
      "cell_type": "markdown",
      "id": "079090fe",
      "metadata": {
        "id": "079090fe"
      },
      "source": [
        "# Live Class 1: Introduction to NumPy\n",
        "Beginner-friendly tour of NumPy: what it is, how arrays work, how to initialize arrays, how to index/slice them, and how to use basic aggregate functions.\n",
        "\n",
        "By the end of this lesson you will be able to:\n",
        "- Explain what NumPy is and why it is fast\n",
        "- Create arrays, understand `dtype`, `ndim`, `shape`, `size`, `itemsize`\n",
        "- Initialize arrays: zeros, ones, identity, full, random (rand, randint)\n",
        "- Generate sequences with `arange` and `linspace`\n",
        "- Index and slice 1D and 2D arrays\n",
        "- Use `max`, `min`, `argmax`, `argmin` with and without `axis`"
      ]
    },
    {
      "cell_type": "markdown",
      "id": "211a4fad",
      "metadata": {
        "id": "211a4fad"
      },
      "source": [
        "## 1) Setup\n",
        "- Make sure NumPy is installed (`pip install numpy`).\n",
        "- We will import NumPy using the common alias `np`."
      ]
    },
    {
      "cell_type": "code",
      "execution_count": null,
      "id": "ed6d9a21",
      "metadata": {
        "id": "ed6d9a21"
      },
      "outputs": [],
      "source": [
        "# If running locally and numpy isn't installed, uncomment the next line:\n",
        "# !pip install numpy\n",
        "\n",
        "import numpy as np\n",
        "print(\"NumPy version:\", np.__version__)"
      ]
    },
    {
      "cell_type": "markdown",
      "id": "9865b925",
      "metadata": {
        "id": "9865b925"
      },
      "source": [
        "## 2) What is NumPy?\n",
        "NumPy is the fundamental package for scientific computing with Python:\n",
        "- Provides the `ndarray` (N-dimensional array) for fast numeric operations\n",
        "- Vectorized operations (no explicit Python loops needed for many tasks)\n",
        "- Efficient memory layout and operations in C under the hood\n",
        "- Works great with the Python data ecosystem (Pandas, SciPy, scikit-learn, etc.)"
      ]
    },
    {
      "cell_type": "markdown",
      "id": "69e00662",
      "metadata": {
        "id": "69e00662"
      },
      "source": [
        "## 3) NumPy Array Basics vs Python Lists\n",
        "Key differences:\n",
        "- Lists are general-purpose containers; arrays are homogeneous (all elements share the same dtype)\n",
        "- Arrays support fast vectorized math\n",
        "- Arrays use less memory for large numeric data and are faster for numeric operations"
      ]
    },
    {
      "cell_type": "code",
      "execution_count": null,
      "id": "1f997dbb",
      "metadata": {
        "id": "1f997dbb"
      },
      "outputs": [],
      "source": [
        "# List vs Array: elementwise addition example\n",
        "py_list_a = [1, 2, 3, 4, 5]\n",
        "py_list_b = [10, 20, 30, 40, 50]\n",
        "\n",
        "# Elementwise addition with lists (explicit loop or comprehension)\n",
        "py_sum = [a + b for a, b in zip(py_list_a, py_list_b)]\n",
        "print(\"Python list result:\", py_sum)\n",
        "\n",
        "# Elementwise addition with NumPy arrays (vectorized)\n",
        "arr_a = np.array(py_list_a)\n",
        "arr_b = np.array(py_list_b)\n",
        "np_sum = arr_a + arr_b  # vectorized\n",
        "print(\"NumPy array result:\", np_sum)"
      ]
    },
    {
      "cell_type": "code",
      "execution_count": null,
      "id": "64b99b3e",
      "metadata": {
        "id": "64b99b3e"
      },
      "outputs": [],
      "source": [
        "# Optional simple timing (not using IPython magics to keep it portable)\n",
        "import time\n",
        "\n",
        "N = 1_000_00  # 100k elements\n",
        "list1 = list(range(N))\n",
        "list2 = list(range(N))\n",
        "\n",
        "start = time.time()\n",
        "py_sum_large = [a + b for a, b in zip(list1, list2)]\n",
        "end = time.time()\n",
        "print(f\"List comprehension time: {end - start:.4f} s\")\n",
        "\n",
        "arr1 = np.arange(N)\n",
        "arr2 = np.arange(N)\n",
        "start = time.time()\n",
        "np_sum_large = arr1 + arr2\n",
        "end = time.time()\n",
        "print(f\"NumPy vectorized time: {end - start:.4f} s\")"
      ]
    },
    {
      "cell_type": "markdown",
      "id": "575e9f07",
      "metadata": {
        "id": "575e9f07"
      },
      "source": [
        "## 4) Creating Arrays and Inspecting Attributes\n",
        "We'll create arrays from Python lists and inspect:\n",
        "- `dtype`: data type\n",
        "- `ndim`: number of dimensions\n",
        "- `shape`: length along each dimension\n",
        "- `size`: total number of elements\n",
        "- `itemsize`: bytes per element"
      ]
    },
    {
      "cell_type": "code",
      "execution_count": null,
      "id": "34042a88",
      "metadata": {
        "id": "34042a88"
      },
      "outputs": [],
      "source": [
        "# Create arrays from lists\n",
        "arr1d = np.array([10, 20, 30], dtype=np.int64)\n",
        "arr2d = np.array([[1.0, 2.0, 3.0],\n",
        "                  [4.0, 5.0, 6.0]], dtype=np.float32)\n",
        "\n",
        "print(\"arr1d:\", arr1d)\n",
        "print(\"dtype:\", arr1d.dtype, \"ndim:\", arr1d.ndim, \"shape:\", arr1d.shape, \"size:\", arr1d.size, \"itemsize:\", arr1d.itemsize)\n",
        "\n",
        "print(\"\\narr2d:\\n\", arr2d)\n",
        "print(\"dtype:\", arr2d.dtype, \"ndim:\", arr2d.ndim, \"shape:\", arr2d.shape, \"size:\", arr2d.size, \"itemsize:\", arr2d.itemsize)"
      ]
    },
    {
      "cell_type": "markdown",
      "id": "43d6fc25",
      "metadata": {
        "id": "43d6fc25"
      },
      "source": [
        "## 5) Array Initialization Overview\n",
        "Common constructors:\n",
        "- `np.zeros(shape, dtype)`: all zeros\n",
        "- `np.ones(shape, dtype)`: all ones\n",
        "- `np.full(shape, fill_value, dtype)`: fill with a constant\n",
        "- Identity matrices: `np.eye(N)` or `np.identity(N)`\n",
        "- Random: `np.random.rand(...)` (uniform [0,1)), `np.random.randint(low, high, size)`"
      ]
    },
    {
      "cell_type": "code",
      "execution_count": null,
      "id": "6fb75113",
      "metadata": {
        "id": "6fb75113"
      },
      "outputs": [],
      "source": [
        "# Reproducible randoms\n",
        "np.random.seed(42)\n",
        "\n",
        "z = np.zeros((2, 3), dtype=np.float64)\n",
        "o = np.ones((3, 2), dtype=np.int32)\n",
        "f = np.full((2, 2), fill_value=7)\n",
        "I_eye = np.eye(4)          # 4x4 identity\n",
        "I_identity = np.identity(3) # 3x3 identity (same idea)\n",
        "\n",
        "r_uniform = np.random.rand(2, 3)          # uniform in [0,1)\n",
        "r_ints    = np.random.randint(10, 100, size=(2, 3))\n",
        "\n",
        "print(\"zeros:\\n\", z)\n",
        "print(\"\\nones:\\n\", o)\n",
        "print(\"\\nfull(7):\\n\", f)\n",
        "print(\"\\nidentity (eye):\\n\", I_eye)\n",
        "print(\"\\nidentity (identity):\\n\", I_identity)\n",
        "print(\"\\nrandom uniform [0,1):\\n\", r_uniform)\n",
        "print(\"\\nrandom integers [10,100):\\n\", r_ints)"
      ]
    },
    {
      "cell_type": "markdown",
      "id": "446fd8a0",
      "metadata": {
        "id": "446fd8a0"
      },
      "source": [
        "## 6) Detailed Initialization Techniques\n",
        "Additional handy constructors:\n",
        "- `np.zeros_like(x)`, `np.ones_like(x)`, `np.full_like(x, val)` match shape and dtype of an existing array\n",
        "- Control dtype explicitly, e.g., `dtype=np.float32`\n",
        "- Memory order: `order='C'` (row-major, default) or `order='F'` (column-major)"
      ]
    },
    {
      "cell_type": "code",
      "execution_count": null,
      "id": "85d3521c",
      "metadata": {
        "id": "85d3521c"
      },
      "outputs": [],
      "source": [
        "base = np.arange(6).reshape(2, 3)\n",
        "zeros_like_base = np.zeros_like(base)\n",
        "ones_like_base = np.ones_like(base, dtype=np.float32)\n",
        "full_like_base = np.full_like(base, fill_value=-1)\n",
        "\n",
        "print(\"base:\\n\", base)\n",
        "print(\"\\nzeros_like(base):\\n\", zeros_like_base)\n",
        "print(\"\\nones_like(base), dtype=float32:\\n\", ones_like_base)\n",
        "print(\"\\nfull_like(base, -1):\\n\", full_like_base)\n",
        "\n",
        "# Order example (effects are visible mostly in memory layout and some operations)\n",
        "A_C = np.ascontiguousarray(np.arange(6).reshape(2,3))\n",
        "A_F = np.asfortranarray(np.arange(6).reshape(2,3))\n",
        "print(\"\\nA_C flags:\\n\", A_C.flags)\n",
        "print(\"\\nA_F flags:\\n\", A_F.flags)"
      ]
    },
    {
      "cell_type": "markdown",
      "id": "ddf13cb1",
      "metadata": {
        "id": "ddf13cb1"
      },
      "source": [
        "## 7) Sequence Generators: arange\n",
        "`np.arange(start, stop, step, dtype)` creates evenly spaced values within an interval.\n",
        "- Includes `start`, excludes `stop` (like Python's `range`)\n",
        "- Be careful with floating point steps (use `linspace` if you need an exact number of points)"
      ]
    },
    {
      "cell_type": "code",
      "execution_count": null,
      "id": "3691eca9",
      "metadata": {
        "id": "3691eca9"
      },
      "outputs": [],
      "source": [
        "print(np.arange(5))            # 0..4\n",
        "print(np.arange(2, 10))        # 2..9\n",
        "print(np.arange(2, 10, 2))     # 2,4,6,8\n",
        "print(np.arange(1.0, 2.0, 0.2))\n",
        "\n",
        "# dtype control\n",
        "print(np.arange(0, 5, dtype=np.float32))"
      ]
    },
    {
      "cell_type": "markdown",
      "id": "d03fd089",
      "metadata": {
        "id": "d03fd089"
      },
      "source": [
        "## 8) Sequence Generators: linspace\n",
        "`np.linspace(start, stop, num, endpoint=True)` returns `num` evenly spaced samples from `start` to `stop`.\n",
        "- If `endpoint=False`, it excludes the final value\n",
        "- `retstep=True` also returns the spacing between values"
      ]
    },
    {
      "cell_type": "code",
      "execution_count": null,
      "id": "4de61451",
      "metadata": {
        "id": "4de61451"
      },
      "outputs": [],
      "source": [
        "lin = np.linspace(0, 1, num=5)\n",
        "lin_no_end = np.linspace(0, 1, num=5, endpoint=False)\n",
        "lin_with_step, step = np.linspace(0, 10, num=6, retstep=True)\n",
        "\n",
        "print(\"linspace(0,1,5):\", lin)\n",
        "print(\"linspace(0,1,5, endpoint=False):\", lin_no_end)\n",
        "print(\"linspace(0,10,6) and step:\", lin_with_step, \"step=\", step)"
      ]
    },
    {
      "cell_type": "markdown",
      "id": "eb326a04",
      "metadata": {
        "id": "eb326a04"
      },
      "source": [
        "## 9) Indexing and Slicing: 1D Arrays\n",
        "- Indexing: `a[i]`\n",
        "- Slicing: `a[start:stop:step]` (stop is exclusive)\n",
        "- Negative indices count from the end (`-1` is last element)\n",
        "- Slices return views (no data copy) in most cases; use `.copy()` for an actual copy"
      ]
    },
    {
      "cell_type": "code",
      "execution_count": null,
      "id": "8cb6f254",
      "metadata": {
        "id": "8cb6f254"
      },
      "outputs": [],
      "source": [
        "arr = np.arange(10)  # [0..9]\n",
        "print(\"arr:\", arr)\n",
        "\n",
        "print(\"arr[0] =\", arr[0])       # first\n",
        "print(\"arr[-1] =\", arr[-1])     # last\n",
        "print(\"arr[2:7] =\", arr[2:7])   # indices 2..6\n",
        "print(\"arr[:5] =\", arr[:5])     # first five\n",
        "print(\"arr[::2] =\", arr[::2])   # step 2\n",
        "\n",
        "view = arr[2:7]\n",
        "view[0] = 99  # modifies the original array!\n",
        "print(\"\\nAfter modifying view, arr:\", arr)\n",
        "\n",
        "copy_slice = arr[2:7].copy()\n",
        "copy_slice[0] = -1\n",
        "print(\"copy changed, original arr unaffected:\", arr)"
      ]
    },
    {
      "cell_type": "markdown",
      "id": "772fd387",
      "metadata": {
        "id": "772fd387"
      },
      "source": [
        "## 10) Indexing and Slicing: 2D Arrays\n",
        "- Access a row: `A[i]` or `A[i, :]`\n",
        "- Access a column: `A[:, j]`\n",
        "- Submatrix slices: `A[r0:r1, c0:c1]`\n",
        "- Steps work on each axis: `A[::2, ::-1]`"
      ]
    },
    {
      "cell_type": "code",
      "execution_count": null,
      "id": "c7200f8d",
      "metadata": {
        "id": "c7200f8d"
      },
      "outputs": [],
      "source": [
        "A = np.arange(1, 13).reshape(3, 4)\n",
        "print(\"A:\\n\", A)\n",
        "\n",
        "print(\"Row 0:\", A[0])          # same as A[0, :]\n",
        "print(\"Column 1:\", A[:, 1])\n",
        "print(\"Submatrix rows 0..1, cols 1..2:\\n\", A[0:2, 1:3])\n",
        "print(\"Every 2nd row, columns reversed:\\n\", A[::2, ::-1])\n",
        "\n",
        "# Views again\n",
        "sub = A[:2, :2]\n",
        "sub[0, 0] = 777\n",
        "print(\"\\nAfter modifying sub, A becomes:\\n\", A)"
      ]
    },
    {
      "cell_type": "markdown",
      "id": "c44c71e2",
      "metadata": {
        "id": "c44c71e2"
      },
      "source": [
        "## 11) Aggregate Functions: max, min, argmax, argmin\n",
        "- Without `axis`, they operate on the flattened array\n",
        "- With `axis=0` (columns) or `axis=1` (rows) they reduce along that axis\n",
        "- `argmax`/`argmin` return the index of the max/min element along the axis"
      ]
    },
    {
      "cell_type": "code",
      "execution_count": null,
      "id": "ee17810a",
      "metadata": {
        "id": "ee17810a"
      },
      "outputs": [],
      "source": [
        "B = np.array([[3, 7, 1],\n",
        "              [9, 2, 5],\n",
        "              [4, 8, 6]])\n",
        "\n",
        "print(\"B:\\n\", B)\n",
        "print(\"\\nGlobal max/min:\", B.max(), B.min())\n",
        "print(\"Global argmax/argmin (index in flattened array):\", B.argmax(), B.argmin())\n",
        "\n",
        "print(\"\\nMax by rows (axis=1):\", B.max(axis=1))\n",
        "print(\"Min by rows (axis=1):\", B.min(axis=1))\n",
        "print(\"Argmax by rows (axis=1):\", B.argmax(axis=1))\n",
        "print(\"Argmin by rows (axis=1):\", B.argmin(axis=1))\n",
        "\n",
        "print(\"\\nMax by cols (axis=0):\", B.max(axis=0))\n",
        "print(\"Min by cols (axis=0):\", B.min(axis=0))\n",
        "print(\"Argmax by cols (axis=0):\", B.argmax(axis=0))\n",
        "print(\"Argmin by cols (axis=0):\", B.argmin(axis=0))"
      ]
    },
    {
      "cell_type": "markdown",
      "id": "55a9ad9b",
      "metadata": {
        "id": "55a9ad9b"
      },
      "source": [
        "## 12) Practice Exercises\n",
        "Try these on your own. Write code cells under each task and run them.\n",
        "\n",
        "1. Create a 1D array of integers from 10 to 50 (inclusive) using `arange`. Extract the last 5 elements using slicing.\n",
        "2. Create a 5x5 identity matrix in two ways (`eye` and `identity`). Verify both are equal.\n",
        "3. Create a 3x4 array of random integers between 100 and 200. Find the global max, min, and their indices with `argmax` and `argmin`.\n",
        "4. Given `C = np.arange(1, 17).reshape(4, 4)`, extract the center 2x2 block using slicing. Then set that block to -1 and observe how it changes `C`.\n",
        "5. Use `linspace` to generate exactly 9 numbers from 0 to 2 inclusive. Verify the spacing between consecutive values."
      ]
    },
    {
      "cell_type": "code",
      "execution_count": null,
      "id": "7dbb2b73",
      "metadata": {
        "id": "7dbb2b73"
      },
      "outputs": [],
      "source": [
        "# Your workspace for the exercises (add more cells as needed)\n",
        "# 1) Your code here\n",
        "\n",
        "# 2) Your code here\n",
        "\n",
        "# 3) Your code here\n",
        "\n",
        "# 4) Your code here\n",
        "\n",
        "# 5) Your code here"
      ]
    },
    {
      "cell_type": "markdown",
      "id": "934cc482",
      "metadata": {
        "id": "934cc482"
      },
      "source": [
        "## 13) Summary\n",
        "- NumPy arrays are fast, memory-efficient containers for numeric data\n",
        "- Initialization: zeros, ones, full, identity, random (rand, randint)\n",
        "- Sequence creation: arange (step-based), linspace (count-based)\n",
        "- Indexing and slicing for 1D and 2D arrays\n",
        "- Aggregations: max/min and argmax/argmin with optional axis\n",
        "\n",
        "Next step: broadcasting, boolean indexing, reshaping, stacking/splitting, and more math functions."
      ]
    }
  ],
  "metadata": {
    "language_info": {
      "name": "python"
    },
    "colab": {
      "provenance": []
    },
    "kernelspec": {
      "name": "python3",
      "display_name": "Python 3"
    }
  },
  "nbformat": 4,
  "nbformat_minor": 5
}